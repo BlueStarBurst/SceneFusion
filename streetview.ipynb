{
  "cells": [
    {
      "cell_type": "code",
      "execution_count": 1,
      "metadata": {
        "colab": {
          "base_uri": "https://localhost:8080/"
        },
        "id": "CbOP_brcSqY5",
        "outputId": "65b7f27e-3478-4295-eb09-8439bcd8e460"
      },
      "outputs": [
        {
          "name": "stdout",
          "output_type": "stream",
          "text": [
            "Collecting streetview\n",
            "  Downloading streetview-0.0.6-py3-none-any.whl (5.9 kB)\n",
            "Requirement already satisfied: pillow in c:\\users\\texas\\appdata\\local\\programs\\python\\python310\\lib\\site-packages (from streetview) (10.0.1)\n",
            "Requirement already satisfied: requests in c:\\users\\texas\\appdata\\local\\programs\\python\\python310\\lib\\site-packages (from streetview) (2.31.0)\n",
            "Collecting pydantic\n",
            "  Downloading pydantic-2.5.1-py3-none-any.whl (381 kB)\n",
            "     ------------------------------------- 381.6/381.6 kB 12.0 MB/s eta 0:00:00\n",
            "Collecting pydantic-core==2.14.3\n",
            "  Downloading pydantic_core-2.14.3-cp310-none-win_amd64.whl (1.9 MB)\n",
            "     ---------------------------------------- 1.9/1.9 MB 17.1 MB/s eta 0:00:00\n",
            "Collecting annotated-types>=0.4.0\n",
            "  Downloading annotated_types-0.6.0-py3-none-any.whl (12 kB)\n",
            "Collecting typing-extensions>=4.6.1\n",
            "  Using cached typing_extensions-4.8.0-py3-none-any.whl (31 kB)\n",
            "Requirement already satisfied: certifi>=2017.4.17 in c:\\users\\texas\\appdata\\local\\programs\\python\\python310\\lib\\site-packages (from requests->streetview) (2023.7.22)\n",
            "Requirement already satisfied: idna<4,>=2.5 in c:\\users\\texas\\appdata\\local\\programs\\python\\python310\\lib\\site-packages (from requests->streetview) (3.4)\n",
            "Requirement already satisfied: urllib3<3,>=1.21.1 in c:\\users\\texas\\appdata\\local\\programs\\python\\python310\\lib\\site-packages (from requests->streetview) (2.0.7)\n",
            "Requirement already satisfied: charset-normalizer<4,>=2 in c:\\users\\texas\\appdata\\local\\programs\\python\\python310\\lib\\site-packages (from requests->streetview) (3.3.2)\n",
            "Installing collected packages: typing-extensions, annotated-types, pydantic-core, pydantic, streetview\n",
            "Successfully installed annotated-types-0.6.0 pydantic-2.5.1 pydantic-core-2.14.3 streetview-0.0.6 typing-extensions-4.8.0\n",
            "Note: you may need to restart the kernel to use updated packages.\n"
          ]
        },
        {
          "name": "stderr",
          "output_type": "stream",
          "text": [
            "\n",
            "[notice] A new release of pip available: 22.2.1 -> 23.3.1\n",
            "[notice] To update, run: python.exe -m pip install --upgrade pip\n"
          ]
        }
      ],
      "source": [
        "%matplotlib inline\n",
        "%load_ext autoreload\n",
        "%autoreload 2\n",
        "\n",
        "%pip install streetview\n",
        "\n",
        "# get key from key.txt\n",
        "api_key = open('key.txt').read()"
      ]
    },
    {
      "cell_type": "markdown",
      "metadata": {
        "id": "6KPq9aZwZ7F_"
      },
      "source": [
        "# Free"
      ]
    },
    {
      "cell_type": "code",
      "execution_count": 21,
      "metadata": {
        "colab": {
          "base_uri": "https://localhost:8080/"
        },
        "id": "3fd39c3qOyLO",
        "outputId": "15570fb5-2b9f-4712-81a9-3b824af53495"
      },
      "outputs": [
        {
          "data": {
            "text/plain": [
              "[MetaData(date='2012-07', location=Location(lat=32.98564991640238, lng=-96.75035174255531), pano_id='0HYsmn_eq5A3KanbW_wVJw'),\n",
              " MetaData(date='2012-07', location=Location(lat=32.98555930867904, lng=-96.74991852533971), pano_id='L_bhp2j3Rp6O7RBw3P8j2A'),\n",
              " MetaData(date='2012-07', location=Location(lat=32.9855607852742, lng=-96.75003205672012), pano_id='sPVxAIlj4-p5L-ItNDQfGA'),\n",
              " MetaData(date='2012-07', location=Location(lat=32.98559878928338, lng=-96.75018985750214), pano_id='5xVlIMLIfPsGYq2nbZq2cQ'),\n",
              " MetaData(date='2012-07', location=Location(lat=32.98564819059489, lng=-96.7501352152623), pano_id='FcuSERjcViRi-ac-f0UbyQ'),\n",
              " MetaData(date='2012-07', location=Location(lat=32.98564735651021, lng=-96.75002878962725), pano_id='qBC1m7SDcYhk0m_cunH13g'),\n",
              " MetaData(date='2012-07', location=Location(lat=32.98564648259163, lng=-96.74992309926196), pano_id='qxO_n2XuCKgan1Web4uv3Q'),\n",
              " MetaData(date='2012-07', location=Location(lat=32.98564573716753, lng=-96.74981977770395), pano_id='F-qpaoUC9DH9swmPOGS4pQ'),\n",
              " MetaData(date='2014-06', location=Location(lat=32.98565167930067, lng=-96.75057390635538), pano_id='3C5P19tVJaTwGlaFDd6kHA'),\n",
              " MetaData(date='2014-06', location=Location(lat=32.98565265633492, lng=-96.75068400840378), pano_id='6yaDTgLoFcsVGSBLWyjwAQ'),\n",
              " MetaData(date='2014-06', location=Location(lat=32.98565364921613, lng=-96.75080489217422), pano_id='1_39dAgFZ6iEDw4gaByxOQ'),\n",
              " MetaData(date='2014-06', location=Location(lat=32.98564888163683, lng=-96.75023004285593), pano_id='L8NoamOQ40Yiv3cp_dx3FQ'),\n",
              " MetaData(date='2014-06', location=Location(lat=32.98565084674517, lng=-96.75046429456161), pano_id='27NSPq6qARLkg5gFC5kOvw'),\n",
              " MetaData(date='2014-06', location=Location(lat=32.98564983914307, lng=-96.75034684189185), pano_id='40NhS7_1Grs_N9_g5IceSw')]"
            ]
          },
          "execution_count": 21,
          "metadata": {},
          "output_type": "execute_result"
        }
      ],
      "source": [
        "\n",
        "\n",
        "from streetview import search_panoramas, get_panorama_meta\n",
        "\n",
        "location = [32.985651, -96.750306]\n",
        "\n",
        "panos = search_panoramas(lat=location[0], lon=location[1])\n",
        "\n",
        "metas = list(map(lambda x: get_panorama_meta(pano_id=x.pano_id, api_key=api_key), panos))\n",
        "\n",
        "metas = [meta for meta in metas if int(meta.date[0:4]) >= 2012]\n",
        "# meta = get_panorama_meta(pano_id=\"_R1mwpMkiqa2p0zp48EBJg\", api_key=api_key)\n",
        "\n",
        "# pano_id='_R1mwpMkiqa2p0zp48EBJg' lat=41.89820676786453 lon=12.47644220919742 heading=0.8815613985061646 pitch=89.001953125 roll=0.1744659692049026 date='2019-08'\n",
        "metas"
      ]
    },
    {
      "cell_type": "code",
      "execution_count": null,
      "metadata": {
        "id": "W3V26Iv9QLtf"
      },
      "outputs": [],
      "source": [
        "from streetview import get_panorama, get_streetview\n",
        "\n",
        "image = get_panorama(pano_id=metas[0].pano_id, zoom=5)\n",
        "\n",
        "# crop the black border pixels\n",
        "pixels = image.load()\n",
        "width, height = image.size\n",
        "x0, y0 = width, height\n",
        "x1, y1 = 0, 0\n",
        "for i in range(width):\n",
        "    i = width - i - 1\n",
        "    if pixels[i, 0] != (0, 0, 0):\n",
        "        x1 = i + 1\n",
        "        break\n",
        "    \n",
        "for i in range(height):\n",
        "    i = height - i - 1\n",
        "    if pixels[0, i] != (0, 0, 0):\n",
        "        y1 = i + 1\n",
        "        break\n",
        "    \n",
        "\n",
        "image = image.crop((0, 0, x1, y1))\n",
        "\n",
        "image.save(\"image.jpg\", \"jpeg\")\n",
        "\n",
        "# image = get_streetview(pano_id=panos[0].pano_id, api_key=api_key, heading=0)\n",
        "# image2 = get_streetview(pano_id=panos[1].pano_id, api_key=api_key, heading=0)\n",
        "# image3 = get_streetview(pano_id=panos[2].pano_id, api_key=api_key, heading=0)\n",
        "# image.thumbnail((image.size[0]/2,image.size[1]/2))\n",
        "\n",
        "# image2.save(\"image2.jpg\", \"jpeg\")\n",
        "\n",
        "# image = get_panorama(pano_id=\"_R1mwpMkiqa2p0zp48EBJg\")\n",
        "\n",
        "# image.save(\"image.jpg\", \"jpeg\")\n"
      ]
    },
    {
      "cell_type": "code",
      "execution_count": null,
      "metadata": {},
      "outputs": [],
      "source": [
        "def get_real_metas(_location, date):\n",
        "  panos = search_panoramas(lat=_location[0], lon=_location[1])\n",
        "  metas = list(map(lambda x: get_panorama_meta(pano_id=x.pano_id, api_key=api_key), panos))\n",
        "\n",
        "  # sort the panos by by latitude north to south\n",
        "  panos.sort(key=lambda x: x.lat, reverse=True)\n",
        "  metas.sort(key=lambda x: x.lat, reverse=True)  \n",
        "\n",
        "  if date != None:\n",
        "    return [panos[i] for i in range(0,len(metas)) if metas[i].date == date]\n",
        "\n",
        "  # find the newest pano in entire dataset\n",
        "  year = 0\n",
        "  for i in range(1,len(metas)):\n",
        "    panos[i].date = metas[i].date\n",
        "    if int(metas[i].date[0:4]) > year and int(metas[i].date[0:4]) != 2023:\n",
        "      year = int(metas[i].date[0:4])\n",
        "    \n",
        "  # create a list of panos that are in the same year as the newest pano\n",
        "  return [panos[i] for i in range(0,len(metas)) if int(metas[i].date[0:4]) == year]\n"
      ]
    },
    {
      "cell_type": "code",
      "execution_count": null,
      "metadata": {
        "id": "W-rrgeyQkd_I"
      },
      "outputs": [],
      "source": [
        "def getImageSeq(location):\n",
        "  fov=120\n",
        "  heading=0\n",
        "\n",
        "  panos = search_panoramas(lat=location[0], lon=location[1])\n",
        "  image = get_streetview(pano_id=panos[0].pano_id, api_key=api_key, heading=0, fov=fov)\n",
        "  image2 = get_streetview(pano_id=panos[1].pano_id, api_key=api_key, heading=0, fov=fov)\n",
        "  image3 = get_streetview(pano_id=panos[2].pano_id, api_key=api_key, heading=0, fov=fov)\n"
      ]
    },
    {
      "cell_type": "code",
      "execution_count": null,
      "metadata": {
        "id": "tgzlmEjRUSMr"
      },
      "outputs": [],
      "source": [
        "# !/usr/bin/env python\n",
        "import numpy as np\n",
        "from scipy import ndimage, misc\n",
        "import sys, math, os\n",
        "from PIL import Image\n",
        "\n",
        "\n",
        "def cubemap(filename):\n",
        "    SIZE = 1024\n",
        "    HSIZE = SIZE / 2.0\n",
        "\n",
        "    im = Image.open(filename)\n",
        "    side_im = np.zeros((SIZE, SIZE), np.uint8)\n",
        "    color_side = np.zeros((SIZE, SIZE, 3), np.uint8)\n",
        "    pids = []\n",
        "    for i in range(0,6):\n",
        "        # Multiple process to go faster!\n",
        "        pid = os.fork()\n",
        "        if pid != 0:\n",
        "            #  Keep track of our children\n",
        "            pids.append(pid)\n",
        "            continue\n",
        "\n",
        "        #  This is numpy's way of visiting each point in an ndarray, I guess its fast...\n",
        "        it = np.nditer(side_im, flags=['multi_index'], op_flags=['readwrite'])\n",
        "        while not it.finished:\n",
        "            # Axis\n",
        "            axA = it.multi_index[0]\n",
        "            axB = it.multi_index[1]\n",
        "            # Color is an axis, so we visit each point 3 times for R,G,B actually...\n",
        "\n",
        "            # Here for each face we decide what each axis represents, x, y or z.\n",
        "            z = -axA + HSIZE\n",
        "\n",
        "            if i == 0:\n",
        "                x = HSIZE\n",
        "                y = -axB + HSIZE\n",
        "            elif i == 1:\n",
        "                x = -HSIZE\n",
        "                y = axB - HSIZE\n",
        "            elif i == 2:\n",
        "                x = axB - HSIZE\n",
        "                y = HSIZE\n",
        "            elif i == 3:\n",
        "                x = -axB + HSIZE\n",
        "                y = -HSIZE\n",
        "            elif i == 4:\n",
        "                z = HSIZE\n",
        "                x = axB - HSIZE\n",
        "                y = axA - HSIZE\n",
        "            elif i == 5:\n",
        "                z = -HSIZE\n",
        "                x = axB - HSIZE\n",
        "                y = -axA + HSIZE\n",
        "\n",
        "            # Now that we have x,y,z for point on plane, convert to spherical\n",
        "            r = math.sqrt(float(x*x + y*y + z*z))\n",
        "            theta = math.acos(float(z)/r)\n",
        "            phi = -math.atan2(float(y),x)\n",
        "\n",
        "            # Now that we have spherical, decide which pixel from the input image we want.\n",
        "            ix = int((im.shape[1]-1)*phi/(2*math.pi))\n",
        "            iy = int((im.shape[0]-1)*(theta)/math.pi)\n",
        "            # This is faster than accessing the whole tuple! WHY???\n",
        "            r = im[iy, ix, 0]\n",
        "            g = im[iy, ix, 1]\n",
        "            b = im[iy, ix, 2]\n",
        "            color_side[axA, axB, 0] = r\n",
        "            color_side[axA, axB, 1] = g\n",
        "            color_side[axA, axB, 2] = b\n",
        "\n",
        "            it.iternext()\n",
        "        # Save output image using prefix, type and index info.\n",
        "        pimg = Image.fromarray(color_side)\n",
        "        pimg.save(os.path.join('.', \"%s%d.%s\"%('side_',i,'.jpg')), quality=85)\n",
        "\n",
        "        # Children Exit here\n",
        "        sys.exit(0)\n",
        "\n",
        "\n",
        "    #  Thise seems to work better than waitpid(-1, 0), in that case sometimes the\n",
        "    #  files still don't exist and we get an error.\n",
        "    for pid in pids:\n",
        "        os.waitpid(pid, 0)"
      ]
    },
    {
      "cell_type": "code",
      "execution_count": null,
      "metadata": {
        "colab": {
          "base_uri": "https://localhost:8080/",
          "height": 272
        },
        "id": "usf6X6ALUUKK",
        "outputId": "ae3040ec-017d-4052-a049-b359a74aa15b"
      },
      "outputs": [
        {
          "ename": "KeyboardInterrupt",
          "evalue": "ignored",
          "output_type": "error",
          "traceback": [
            "\u001b[0;31m---------------------------------------------------------------------------\u001b[0m",
            "\u001b[0;31mKeyboardInterrupt\u001b[0m                         Traceback (most recent call last)",
            "\u001b[0;32m<ipython-input-5-da70e0aa8f0a>\u001b[0m in \u001b[0;36m<cell line: 1>\u001b[0;34m()\u001b[0m\n\u001b[0;32m----> 1\u001b[0;31m \u001b[0mcubemap\u001b[0m\u001b[0;34m(\u001b[0m\u001b[0;34m\"image.jpg\"\u001b[0m\u001b[0;34m)\u001b[0m\u001b[0;34m\u001b[0m\u001b[0;34m\u001b[0m\u001b[0m\n\u001b[0m",
            "\u001b[0;32m<ipython-input-4-5d5f6e15b3cc>\u001b[0m in \u001b[0;36mcubemap\u001b[0;34m(filename)\u001b[0m\n\u001b[1;32m     82\u001b[0m     \u001b[0;31m#  files still don't exist and we get an error.\u001b[0m\u001b[0;34m\u001b[0m\u001b[0;34m\u001b[0m\u001b[0m\n\u001b[1;32m     83\u001b[0m     \u001b[0;32mfor\u001b[0m \u001b[0mpid\u001b[0m \u001b[0;32min\u001b[0m \u001b[0mpids\u001b[0m\u001b[0;34m:\u001b[0m\u001b[0;34m\u001b[0m\u001b[0;34m\u001b[0m\u001b[0m\n\u001b[0;32m---> 84\u001b[0;31m         \u001b[0mos\u001b[0m\u001b[0;34m.\u001b[0m\u001b[0mwaitpid\u001b[0m\u001b[0;34m(\u001b[0m\u001b[0mpid\u001b[0m\u001b[0;34m,\u001b[0m \u001b[0;36m0\u001b[0m\u001b[0;34m)\u001b[0m\u001b[0;34m\u001b[0m\u001b[0;34m\u001b[0m\u001b[0m\n\u001b[0m",
            "\u001b[0;31mKeyboardInterrupt\u001b[0m: "
          ]
        }
      ],
      "source": [
        "cubemap(\"image.jpg\")"
      ]
    },
    {
      "cell_type": "markdown",
      "metadata": {
        "id": "xBtRdalMZ31-"
      },
      "source": [
        "# Test"
      ]
    },
    {
      "cell_type": "code",
      "execution_count": null,
      "metadata": {
        "id": "rnuXfr09Z3YW"
      },
      "outputs": [],
      "source": [
        "import requests"
      ]
    },
    {
      "cell_type": "code",
      "execution_count": null,
      "metadata": {
        "id": "jdD3oUJhaCIG"
      },
      "outputs": [],
      "source": [
        "meta_base = 'https://maps.googleapis.com/maps/api/streetview/metadata?'\n",
        "pic_base = 'https://maps.googleapis.com/maps/api/streetview?'\n",
        "\n",
        "# using my graduate school almar mater, GWU, as an example\n",
        "location = '2121 I St NW, Washington, DC 20052'"
      ]
    },
    {
      "cell_type": "code",
      "execution_count": null,
      "metadata": {
        "id": "52cbG-j2aEZI"
      },
      "outputs": [],
      "source": [
        "# define the params for the metadata reques\n",
        "meta_params = {'key': api_key,\n",
        "               'location': location}\n",
        "# define the params for the picture request\n",
        "pic_params = {'key': api_key,\n",
        "              'location': location,\n",
        "              'size': \"640x640\"}"
      ]
    },
    {
      "cell_type": "code",
      "execution_count": null,
      "metadata": {
        "id": "fbit_InraI0U"
      },
      "outputs": [],
      "source": [
        "# obtain the metadata of the request (this is free)\n",
        "meta_response = requests.get(meta_base, params=meta_params)"
      ]
    },
    {
      "cell_type": "code",
      "execution_count": null,
      "metadata": {
        "colab": {
          "base_uri": "https://localhost:8080/"
        },
        "id": "iKE1E55OaNB8",
        "outputId": "f4c0cedb-9b3c-4de8-e121-b70423c15b6d"
      },
      "outputs": [
        {
          "data": {
            "text/plain": [
              "{'copyright': '© Google',\n",
              " 'date': '2022-11',\n",
              " 'location': {'lat': 38.90070138128706, 'lng': -77.04766496952116},\n",
              " 'pano_id': 'F2lSvBDs2NIsA1uwaE0h6Q',\n",
              " 'status': 'OK'}"
            ]
          },
          "execution_count": 9,
          "metadata": {},
          "output_type": "execute_result"
        }
      ],
      "source": [
        "meta_response.json()"
      ]
    },
    {
      "cell_type": "code",
      "execution_count": null,
      "metadata": {
        "id": "xjIsSq04aUyj"
      },
      "outputs": [],
      "source": [
        "pic_response = requests.get(pic_base, params=pic_params)"
      ]
    },
    {
      "cell_type": "code",
      "execution_count": null,
      "metadata": {
        "id": "pMA8NuspaXE_"
      },
      "outputs": [],
      "source": [
        "with open('test.jpg', 'wb') as file:\n",
        "    file.write(pic_response.content)\n",
        "# remember to close the response connection to the API\n",
        "pic_response.close()"
      ]
    }
  ],
  "metadata": {
    "accelerator": "TPU",
    "colab": {
      "provenance": []
    },
    "kernelspec": {
      "display_name": "Python 3",
      "name": "python3"
    },
    "language_info": {
      "codemirror_mode": {
        "name": "ipython",
        "version": 3
      },
      "file_extension": ".py",
      "mimetype": "text/x-python",
      "name": "python",
      "nbconvert_exporter": "python",
      "pygments_lexer": "ipython3",
      "version": "3.10.6"
    }
  },
  "nbformat": 4,
  "nbformat_minor": 0
}
